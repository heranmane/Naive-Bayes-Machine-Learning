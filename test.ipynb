{
 "cells": [
  {
   "cell_type": "code",
   "execution_count": 11,
   "metadata": {},
   "outputs": [],
   "source": [
    "import pandas as pd\n",
    "from sqlalchemy import create_engine\n",
    "from string import digits\n",
    "import numpy as np\n",
    "import os\n",
    "import nltk\n",
    "import string\n",
    "from nltk.corpus import stopwords  \n",
    "from nltk.tokenize import word_tokenize  \n",
    "from sklearn.feature_extraction.text import TfidfVectorizer\n",
    "from collections import defaultdict\n",
    "from nltk.probability import FreqDist, DictionaryProbDist, ELEProbDist, sum_logs\n",
    "from nltk.classify.api import ClassifierI\n"
   ]
  },
  {
   "cell_type": "code",
   "execution_count": 12,
   "metadata": {},
   "outputs": [
    {
     "data": {
      "text/html": [
       "<div>\n",
       "<style scoped>\n",
       "    .dataframe tbody tr th:only-of-type {\n",
       "        vertical-align: middle;\n",
       "    }\n",
       "\n",
       "    .dataframe tbody tr th {\n",
       "        vertical-align: top;\n",
       "    }\n",
       "\n",
       "    .dataframe thead th {\n",
       "        text-align: right;\n",
       "    }\n",
       "</style>\n",
       "<table border=\"1\" class=\"dataframe\">\n",
       "  <thead>\n",
       "    <tr style=\"text-align: right;\">\n",
       "      <th></th>\n",
       "      <th>Index_No</th>\n",
       "      <th>Job_Title</th>\n",
       "      <th>Link</th>\n",
       "      <th>Queried_Salary</th>\n",
       "      <th>Job_Type</th>\n",
       "      <th>Skill</th>\n",
       "      <th>duplicate</th>\n",
       "      <th>Description</th>\n",
       "      <th>Unnamed: 8</th>\n",
       "      <th>Unnamed: 9</th>\n",
       "      <th>...</th>\n",
       "      <th>Unnamed: 46</th>\n",
       "      <th>Unnamed: 47</th>\n",
       "      <th>Unnamed: 48</th>\n",
       "      <th>Unnamed: 49</th>\n",
       "      <th>Unnamed: 50</th>\n",
       "      <th>Unnamed: 51</th>\n",
       "      <th>Unnamed: 52</th>\n",
       "      <th>Unnamed: 53</th>\n",
       "      <th>Unnamed: 54</th>\n",
       "      <th>Unnamed: 55</th>\n",
       "    </tr>\n",
       "  </thead>\n",
       "  <tbody>\n",
       "    <tr>\n",
       "      <th>0</th>\n",
       "      <td>0</td>\n",
       "      <td>Data Scientist</td>\n",
       "      <td>https://www.indeed.com/rc/clk?jk=6a105f495c36a...</td>\n",
       "      <td>&lt;80000</td>\n",
       "      <td>data_scientist</td>\n",
       "      <td>['SAP', 'SQL']</td>\n",
       "      <td>[POSITION SUMMARY, The Business Analyst role i...</td>\n",
       "      <td>[position summary, the business analyst role i...</td>\n",
       "      <td>NaN</td>\n",
       "      <td>NaN</td>\n",
       "      <td>...</td>\n",
       "      <td>NaN</td>\n",
       "      <td>NaN</td>\n",
       "      <td>NaN</td>\n",
       "      <td>NaN</td>\n",
       "      <td>NaN</td>\n",
       "      <td>NaN</td>\n",
       "      <td>NaN</td>\n",
       "      <td>NaN</td>\n",
       "      <td>NaN</td>\n",
       "      <td>NaN</td>\n",
       "    </tr>\n",
       "    <tr>\n",
       "      <th>1</th>\n",
       "      <td>1</td>\n",
       "      <td>Data Scientist</td>\n",
       "      <td>https://www.indeed.com/rc/clk?jk=86afd561ea8c6...</td>\n",
       "      <td>&lt;80000</td>\n",
       "      <td>data_scientist</td>\n",
       "      <td>['Machine Learning', 'R', 'SAS', 'SQL', 'Python']</td>\n",
       "      <td>[What do we need?, \\r\\r\\nYou to have an amazin...</td>\n",
       "      <td>[what do we need?, \\r\\r\\nyou to have an amazin...</td>\n",
       "      <td>NaN</td>\n",
       "      <td>NaN</td>\n",
       "      <td>...</td>\n",
       "      <td>NaN</td>\n",
       "      <td>NaN</td>\n",
       "      <td>NaN</td>\n",
       "      <td>NaN</td>\n",
       "      <td>NaN</td>\n",
       "      <td>NaN</td>\n",
       "      <td>NaN</td>\n",
       "      <td>NaN</td>\n",
       "      <td>NaN</td>\n",
       "      <td>NaN</td>\n",
       "    </tr>\n",
       "    <tr>\n",
       "      <th>2</th>\n",
       "      <td>2</td>\n",
       "      <td>Data Scientist</td>\n",
       "      <td>https://www.indeed.com/rc/clk?jk=e0aad317e6d45...</td>\n",
       "      <td>&lt;80000</td>\n",
       "      <td>data_scientist</td>\n",
       "      <td>['Data Mining', 'Data Management', 'R', 'SAS',...</td>\n",
       "      <td>[Validate, analyze, and conduct statistical an...</td>\n",
       "      <td>[validate, analyze, and conduct statistical an...</td>\n",
       "      <td>NaN</td>\n",
       "      <td>NaN</td>\n",
       "      <td>...</td>\n",
       "      <td>NaN</td>\n",
       "      <td>NaN</td>\n",
       "      <td>NaN</td>\n",
       "      <td>NaN</td>\n",
       "      <td>NaN</td>\n",
       "      <td>NaN</td>\n",
       "      <td>NaN</td>\n",
       "      <td>NaN</td>\n",
       "      <td>NaN</td>\n",
       "      <td>NaN</td>\n",
       "    </tr>\n",
       "    <tr>\n",
       "      <th>3</th>\n",
       "      <td>3</td>\n",
       "      <td>Graduate Studies Program - Data Scientist</td>\n",
       "      <td>https://www.indeed.com/rc/clk?jk=1cfdd9e391a63...</td>\n",
       "      <td>&lt;80000</td>\n",
       "      <td>data_scientist</td>\n",
       "      <td>['Certified Internal Auditor']</td>\n",
       "      <td>[Full time, Washington, DC metro area, Startin...</td>\n",
       "      <td>[full time, washington, dc metro area, startin...</td>\n",
       "      <td>NaN</td>\n",
       "      <td>NaN</td>\n",
       "      <td>...</td>\n",
       "      <td>NaN</td>\n",
       "      <td>NaN</td>\n",
       "      <td>NaN</td>\n",
       "      <td>NaN</td>\n",
       "      <td>NaN</td>\n",
       "      <td>NaN</td>\n",
       "      <td>NaN</td>\n",
       "      <td>NaN</td>\n",
       "      <td>NaN</td>\n",
       "      <td>NaN</td>\n",
       "    </tr>\n",
       "    <tr>\n",
       "      <th>4</th>\n",
       "      <td>4</td>\n",
       "      <td>Data Scientist I</td>\n",
       "      <td>https://www.indeed.com/rc/clk?jk=fec647775a21e...</td>\n",
       "      <td>&lt;80000</td>\n",
       "      <td>data_scientist</td>\n",
       "      <td>['Statistical Software', 'Time Management', 'R...</td>\n",
       "      <td>[Assist in consultations with business partner...</td>\n",
       "      <td>[assist in consultations with business partner...</td>\n",
       "      <td>NaN</td>\n",
       "      <td>NaN</td>\n",
       "      <td>...</td>\n",
       "      <td>NaN</td>\n",
       "      <td>NaN</td>\n",
       "      <td>NaN</td>\n",
       "      <td>NaN</td>\n",
       "      <td>NaN</td>\n",
       "      <td>NaN</td>\n",
       "      <td>NaN</td>\n",
       "      <td>NaN</td>\n",
       "      <td>NaN</td>\n",
       "      <td>0.0</td>\n",
       "    </tr>\n",
       "  </tbody>\n",
       "</table>\n",
       "<p>5 rows × 56 columns</p>\n",
       "</div>"
      ],
      "text/plain": [
       "   Index_No                                  Job_Title  \\\n",
       "0         0                             Data Scientist   \n",
       "1         1                             Data Scientist   \n",
       "2         2                             Data Scientist   \n",
       "3         3  Graduate Studies Program - Data Scientist   \n",
       "4         4                           Data Scientist I   \n",
       "\n",
       "                                                Link Queried_Salary  \\\n",
       "0  https://www.indeed.com/rc/clk?jk=6a105f495c36a...         <80000   \n",
       "1  https://www.indeed.com/rc/clk?jk=86afd561ea8c6...         <80000   \n",
       "2  https://www.indeed.com/rc/clk?jk=e0aad317e6d45...         <80000   \n",
       "3  https://www.indeed.com/rc/clk?jk=1cfdd9e391a63...         <80000   \n",
       "4  https://www.indeed.com/rc/clk?jk=fec647775a21e...         <80000   \n",
       "\n",
       "         Job_Type                                              Skill  \\\n",
       "0  data_scientist                                     ['SAP', 'SQL']   \n",
       "1  data_scientist  ['Machine Learning', 'R', 'SAS', 'SQL', 'Python']   \n",
       "2  data_scientist  ['Data Mining', 'Data Management', 'R', 'SAS',...   \n",
       "3  data_scientist                     ['Certified Internal Auditor']   \n",
       "4  data_scientist  ['Statistical Software', 'Time Management', 'R...   \n",
       "\n",
       "                                           duplicate  \\\n",
       "0  [POSITION SUMMARY, The Business Analyst role i...   \n",
       "1  [What do we need?, \\r\\r\\nYou to have an amazin...   \n",
       "2  [Validate, analyze, and conduct statistical an...   \n",
       "3  [Full time, Washington, DC metro area, Startin...   \n",
       "4  [Assist in consultations with business partner...   \n",
       "\n",
       "                                         Description  Unnamed: 8  Unnamed: 9  \\\n",
       "0  [position summary, the business analyst role i...         NaN         NaN   \n",
       "1  [what do we need?, \\r\\r\\nyou to have an amazin...         NaN         NaN   \n",
       "2  [validate, analyze, and conduct statistical an...         NaN         NaN   \n",
       "3  [full time, washington, dc metro area, startin...         NaN         NaN   \n",
       "4  [assist in consultations with business partner...         NaN         NaN   \n",
       "\n",
       "   ...  Unnamed: 46  Unnamed: 47  Unnamed: 48  Unnamed: 49  Unnamed: 50  \\\n",
       "0  ...          NaN          NaN          NaN          NaN          NaN   \n",
       "1  ...          NaN          NaN          NaN          NaN          NaN   \n",
       "2  ...          NaN          NaN          NaN          NaN          NaN   \n",
       "3  ...          NaN          NaN          NaN          NaN          NaN   \n",
       "4  ...          NaN          NaN          NaN          NaN          NaN   \n",
       "\n",
       "   Unnamed: 51  Unnamed: 52  Unnamed: 53  Unnamed: 54  Unnamed: 55  \n",
       "0          NaN          NaN          NaN          NaN          NaN  \n",
       "1          NaN          NaN          NaN          NaN          NaN  \n",
       "2          NaN          NaN          NaN          NaN          NaN  \n",
       "3          NaN          NaN          NaN          NaN          NaN  \n",
       "4          NaN          NaN          NaN          NaN          0.0  \n",
       "\n",
       "[5 rows x 56 columns]"
      ]
     },
     "execution_count": 12,
     "metadata": {},
     "output_type": "execute_result"
    }
   ],
   "source": [
    "csv1 = \"./indeed_job_dataset_jds_v2.csv\"\n",
    "# csv2 = \"./indeed_job_dataset_V5_CSV.csv\"\n",
    "df1 = pd.read_csv(csv1, encoding = 'unicode_escape')\n",
    "# df2 = pd.read_csv(csv2)\n",
    "df1.head()\n",
    "# df2.head()"
   ]
  },
  {
   "cell_type": "code",
   "execution_count": 13,
   "metadata": {},
   "outputs": [
    {
     "data": {
      "text/html": [
       "<div>\n",
       "<style scoped>\n",
       "    .dataframe tbody tr th:only-of-type {\n",
       "        vertical-align: middle;\n",
       "    }\n",
       "\n",
       "    .dataframe tbody tr th {\n",
       "        vertical-align: top;\n",
       "    }\n",
       "\n",
       "    .dataframe thead th {\n",
       "        text-align: right;\n",
       "    }\n",
       "</style>\n",
       "<table border=\"1\" class=\"dataframe\">\n",
       "  <thead>\n",
       "    <tr style=\"text-align: right;\">\n",
       "      <th></th>\n",
       "      <th>Job_Type</th>\n",
       "      <th>Description</th>\n",
       "    </tr>\n",
       "  </thead>\n",
       "  <tbody>\n",
       "    <tr>\n",
       "      <th>0</th>\n",
       "      <td>data_scientist</td>\n",
       "      <td>[position summary, the business analyst role i...</td>\n",
       "    </tr>\n",
       "    <tr>\n",
       "      <th>1</th>\n",
       "      <td>data_scientist</td>\n",
       "      <td>[what do we need?, \\r\\r\\nyou to have an amazin...</td>\n",
       "    </tr>\n",
       "    <tr>\n",
       "      <th>2</th>\n",
       "      <td>data_scientist</td>\n",
       "      <td>[validate, analyze, and conduct statistical an...</td>\n",
       "    </tr>\n",
       "    <tr>\n",
       "      <th>3</th>\n",
       "      <td>data_scientist</td>\n",
       "      <td>[full time, washington, dc metro area, startin...</td>\n",
       "    </tr>\n",
       "    <tr>\n",
       "      <th>4</th>\n",
       "      <td>data_scientist</td>\n",
       "      <td>[assist in consultations with business partner...</td>\n",
       "    </tr>\n",
       "  </tbody>\n",
       "</table>\n",
       "</div>"
      ],
      "text/plain": [
       "         Job_Type                                        Description\n",
       "0  data_scientist  [position summary, the business analyst role i...\n",
       "1  data_scientist  [what do we need?, \\r\\r\\nyou to have an amazin...\n",
       "2  data_scientist  [validate, analyze, and conduct statistical an...\n",
       "3  data_scientist  [full time, washington, dc metro area, startin...\n",
       "4  data_scientist  [assist in consultations with business partner..."
      ]
     },
     "execution_count": 13,
     "metadata": {},
     "output_type": "execute_result"
    }
   ],
   "source": [
    "df = df1[['Job_Type', 'Description']]\n",
    "df.head()"
   ]
  },
  {
   "cell_type": "code",
   "execution_count": 14,
   "metadata": {},
   "outputs": [
    {
     "name": "stderr",
     "output_type": "stream",
     "text": [
      "/Users/williammdavis/opt/anaconda3/lib/python3.7/site-packages/ipykernel_launcher.py:1: SettingWithCopyWarning: \n",
      "A value is trying to be set on a copy of a slice from a DataFrame\n",
      "\n",
      "See the caveats in the documentation: https://pandas.pydata.org/pandas-docs/stable/user_guide/indexing.html#returning-a-view-versus-a-copy\n",
      "  \"\"\"Entry point for launching an IPython kernel.\n"
     ]
    },
    {
     "data": {
      "text/plain": [
       "5413"
      ]
     },
     "execution_count": 14,
     "metadata": {},
     "output_type": "execute_result"
    }
   ],
   "source": [
    "\n",
    "df.dropna(inplace=True)\n",
    "\n",
    "len(df['Job_Type'])"
   ]
  },
  {
   "cell_type": "code",
   "execution_count": 15,
   "metadata": {},
   "outputs": [
    {
     "data": {
      "text/html": [
       "<div>\n",
       "<style scoped>\n",
       "    .dataframe tbody tr th:only-of-type {\n",
       "        vertical-align: middle;\n",
       "    }\n",
       "\n",
       "    .dataframe tbody tr th {\n",
       "        vertical-align: top;\n",
       "    }\n",
       "\n",
       "    .dataframe thead th {\n",
       "        text-align: right;\n",
       "    }\n",
       "</style>\n",
       "<table border=\"1\" class=\"dataframe\">\n",
       "  <thead>\n",
       "    <tr style=\"text-align: right;\">\n",
       "      <th></th>\n",
       "      <th>Job_Type</th>\n",
       "      <th>Description</th>\n",
       "    </tr>\n",
       "  </thead>\n",
       "  <tbody>\n",
       "    <tr>\n",
       "      <th>0</th>\n",
       "      <td>data_scientist</td>\n",
       "      <td>[position summary, the business analyst role i...</td>\n",
       "    </tr>\n",
       "    <tr>\n",
       "      <th>1</th>\n",
       "      <td>data_scientist</td>\n",
       "      <td>[what do we need?, \\r\\r\\nyou to have an amazin...</td>\n",
       "    </tr>\n",
       "    <tr>\n",
       "      <th>2</th>\n",
       "      <td>data_scientist</td>\n",
       "      <td>[validate, analyze, and conduct statistical an...</td>\n",
       "    </tr>\n",
       "    <tr>\n",
       "      <th>3</th>\n",
       "      <td>data_scientist</td>\n",
       "      <td>[full time, washington, dc metro area, startin...</td>\n",
       "    </tr>\n",
       "    <tr>\n",
       "      <th>4</th>\n",
       "      <td>data_scientist</td>\n",
       "      <td>[assist in consultations with business partner...</td>\n",
       "    </tr>\n",
       "  </tbody>\n",
       "</table>\n",
       "</div>"
      ],
      "text/plain": [
       "         Job_Type                                        Description\n",
       "0  data_scientist  [position summary, the business analyst role i...\n",
       "1  data_scientist  [what do we need?, \\r\\r\\nyou to have an amazin...\n",
       "2  data_scientist  [validate, analyze, and conduct statistical an...\n",
       "3  data_scientist  [full time, washington, dc metro area, startin...\n",
       "4  data_scientist  [assist in consultations with business partner..."
      ]
     },
     "execution_count": 15,
     "metadata": {},
     "output_type": "execute_result"
    }
   ],
   "source": [
    "df.head()"
   ]
  },
  {
   "cell_type": "code",
   "execution_count": 16,
   "metadata": {},
   "outputs": [],
   "source": [
    "# df.drop_duplicates(inplace = True)"
   ]
  },
  {
   "cell_type": "code",
   "execution_count": 17,
   "metadata": {},
   "outputs": [
    {
     "data": {
      "text/plain": [
       "(5413, 2)"
      ]
     },
     "execution_count": 17,
     "metadata": {},
     "output_type": "execute_result"
    }
   ],
   "source": [
    "df.shape\n"
   ]
  },
  {
   "cell_type": "code",
   "execution_count": 18,
   "metadata": {},
   "outputs": [
    {
     "name": "stderr",
     "output_type": "stream",
     "text": [
      "[nltk_data] Downloading package stopwords to\n",
      "[nltk_data]     /Users/williammdavis/nltk_data...\n",
      "[nltk_data]   Package stopwords is already up-to-date!\n"
     ]
    },
    {
     "data": {
      "text/plain": [
       "True"
      ]
     },
     "execution_count": 18,
     "metadata": {},
     "output_type": "execute_result"
    }
   ],
   "source": [
    "#download stop words \n",
    "nltk.download('stopwords')"
   ]
  },
  {
   "cell_type": "code",
   "execution_count": 19,
   "metadata": {},
   "outputs": [],
   "source": [
    "def process_text(text):\n",
    "    nopunc = [char for char in text if char not in string.punctuation]\n",
    "    nopunc = ''.join(nopunc)\n",
    "    clean_words = [word for word in nopunc.split() if word.lower() not in stopwords.words('english')]\n",
    "    return clean_words"
   ]
  },
  {
   "cell_type": "code",
   "execution_count": null,
   "metadata": {},
   "outputs": [],
   "source": []
  },
  {
   "cell_type": "code",
   "execution_count": 20,
   "metadata": {},
   "outputs": [
    {
     "data": {
      "text/plain": [
       "0    [position, summary, business, analyst, role, p...\n",
       "1    [need, amazing, personality, communication, st...\n",
       "2    [validate, analyze, conduct, statistical, anal...\n",
       "3    [full, time, washington, dc, metro, area, star...\n",
       "4    [assist, consultations, business, partners, in...\n",
       "Name: Description, dtype: object"
      ]
     },
     "execution_count": 20,
     "metadata": {},
     "output_type": "execute_result"
    }
   ],
   "source": [
    "#show tokenization \n",
    "df['Description'].head().apply(process_text)"
   ]
  },
  {
   "cell_type": "code",
   "execution_count": 21,
   "metadata": {},
   "outputs": [],
   "source": [
    "# #example \n",
    "# message4 = 'hello world hello hello world play'\n",
    "# message5= 'test test test one hello'\n",
    "# print(message4)\n",
    "# print()\n",
    "\n",
    "# #convert the text to a matrix of a token counts \n",
    "# from sklearn.feature_extraction.text import CountVectorizer\n",
    "# bow4 =CountVectorizer(analyzer=process_text).fit_transform([[message4],[message5]])\n",
    "# print(bow4)\n",
    "# print(bow4.shape)"
   ]
  },
  {
   "cell_type": "code",
   "execution_count": 29,
   "metadata": {},
   "outputs": [],
   "source": [
    "#convert collection of text to a matrix of tokens\n",
    "from sklearn.feature_extraction.text import CountVectorizer\n",
    "\n",
    "message_bow = CountVectorizer(analyzer=process_text).fit_transform(df['Description'])\n"
   ]
  },
  {
   "cell_type": "code",
   "execution_count": 31,
   "metadata": {},
   "outputs": [],
   "source": [
    "# print(message_bow)"
   ]
  },
  {
   "cell_type": "code",
   "execution_count": 30,
   "metadata": {},
   "outputs": [
    {
     "name": "stdout",
     "output_type": "stream",
     "text": [
      "TfidfTransformer(norm='l2', smooth_idf=True, sublinear_tf=False, use_idf=True)\n",
      "  (0, 33555)\t0.06682020709161964\n",
      "  (0, 33503)\t0.107954082463933\n",
      "  (0, 33493)\t0.11310481652322983\n",
      "  (0, 33174)\t0.016510422907896255\n",
      "  (0, 32899)\t0.029509159440664342\n",
      "  (0, 32694)\t0.042913478039337934\n",
      "  (0, 32490)\t0.03275337876501664\n",
      "  (0, 32461)\t0.0380700962283523\n",
      "  (0, 32174)\t0.03657194591412919\n",
      "  (0, 32120)\t0.046789210045183216\n",
      "  (0, 32066)\t0.04409056332120154\n",
      "  (0, 32014)\t0.028164570879885897\n",
      "  (0, 31978)\t0.029553283393481344\n",
      "  (0, 31806)\t0.11310481652322983\n",
      "  (0, 31804)\t0.1664693082635492\n",
      "  (0, 31468)\t0.057842047209338526\n",
      "  (0, 30975)\t0.040997134753640654\n",
      "  (0, 30808)\t0.02874835941759064\n",
      "  (0, 30759)\t0.048204159438598196\n",
      "  (0, 30473)\t0.0832346541317746\n",
      "  (0, 30356)\t0.025918685310249726\n",
      "  (0, 30239)\t0.022911231384124504\n",
      "  (0, 30167)\t0.02452394268379129\n",
      "  (0, 29900)\t0.06474774276713924\n",
      "  (0, 29819)\t0.023829285448228932\n",
      "  :\t:\n",
      "  (5412, 6001)\t0.04132262028820754\n",
      "  (5412, 5927)\t0.07722274273021437\n",
      "  (5412, 5875)\t0.03906409947878282\n",
      "  (5412, 5863)\t0.12357313299095299\n",
      "  (5412, 5732)\t0.05648833085440836\n",
      "  (5412, 5638)\t0.055557934292231735\n",
      "  (5412, 4896)\t0.04388621238845104\n",
      "  (5412, 4557)\t0.03032755022572157\n",
      "  (5412, 4309)\t0.10179596714647479\n",
      "  (5412, 3991)\t0.06554173835379526\n",
      "  (5412, 3856)\t0.1340054939480631\n",
      "  (5412, 3538)\t0.03103428641504403\n",
      "  (5412, 3397)\t0.08681406281062524\n",
      "  (5412, 2669)\t0.07362936446165556\n",
      "  (5412, 2662)\t0.04002631490626068\n",
      "  (5412, 2416)\t0.06768121663228825\n",
      "  (5412, 2342)\t0.04969246160515743\n",
      "  (5412, 2194)\t0.04611861272401683\n",
      "  (5412, 1911)\t0.12021466290285322\n",
      "  (5412, 1814)\t0.04568964950670645\n",
      "  (5412, 1428)\t0.031310156307720986\n",
      "  (5412, 1414)\t0.060745618148958284\n",
      "  (5412, 1096)\t0.087483093638889\n",
      "  (5412, 986)\t0.06259087080830525\n",
      "  (5412, 763)\t0.05016923010790155\n",
      "(5413, 34069)\n"
     ]
    }
   ],
   "source": [
    "# word frequency-and word sgnificance \n",
    "from sklearn.feature_extraction.text import TfidfTransformer\n",
    "tfidf_transformer = TfidfTransformer().fit(message_bow)\n",
    "print(tfidf_transformer)\n",
    "\n",
    "title_tfidf = tfidf_transformer.transform(message_bow)\n",
    "print(title_tfidf)\n",
    "print(title_tfidf.shape)\n"
   ]
  },
  {
   "cell_type": "code",
   "execution_count": 32,
   "metadata": {},
   "outputs": [],
   "source": [
    "#create and train the naive bayes classifier\n",
    "from sklearn.naive_bayes import MultinomialNB\n",
    "model =  MultinomialNB().fit(title_tfidf, df['Job_Type'])"
   ]
  },
  {
   "cell_type": "code",
   "execution_count": 33,
   "metadata": {},
   "outputs": [
    {
     "name": "stdout",
     "output_type": "stream",
     "text": [
      "['data_scientist' 'data_scientist' 'data_scientist' ... 'data_engineer'\n",
      " 'data_engineer' 'data_scientist']\n"
     ]
    }
   ],
   "source": [
    "all_predictions = model.predict(title_tfidf)\n",
    "print(all_predictions)"
   ]
  },
  {
   "cell_type": "code",
   "execution_count": 44,
   "metadata": {},
   "outputs": [
    {
     "name": "stdout",
     "output_type": "stream",
     "text": [
      "Confusion Matrix: [[1010    9  655]\n",
      " [  44  620  664]\n",
      " [  17    2 2392]]\n"
     ]
    }
   ],
   "source": [
    "from sklearn.metrics import classification_report, confusion_matrix, accuracy_score\n",
    "\n",
    "confusion"
   ]
  },
  {
   "cell_type": "code",
   "execution_count": null,
   "metadata": {},
   "outputs": [],
   "source": []
  },
  {
   "cell_type": "code",
   "execution_count": 28,
   "metadata": {},
   "outputs": [],
   "source": [
    "#split the data into 80% training and 20% testing\n",
    "from sklearn.model_selection import train_test_split\n",
    "X_train, X_test, y_train, y_test = train_test_split(message_bow, df['Job_Type'],test_size=0.20, random_state=0)"
   ]
  },
  {
   "cell_type": "code",
   "execution_count": 29,
   "metadata": {},
   "outputs": [
    {
     "data": {
      "text/plain": [
       "(5413, 34069)"
      ]
     },
     "execution_count": 29,
     "metadata": {},
     "output_type": "execute_result"
    }
   ],
   "source": [
    "message_bow.shape"
   ]
  },
  {
   "cell_type": "code",
   "execution_count": 30,
   "metadata": {},
   "outputs": [],
   "source": [
    "#create and train the naive bayes classifier\n",
    "from sklearn.naive_bayes import MultinomialNB\n",
    "classifier =  MultinomialNB().fit(X_train, y_train)"
   ]
  },
  {
   "cell_type": "code",
   "execution_count": 32,
   "metadata": {},
   "outputs": [
    {
     "name": "stdout",
     "output_type": "stream",
     "text": [
      "['data_analyst' 'data_engineer' 'data_scientist' ... 'data_scientist'\n",
      " 'data_analyst' 'data_analyst']\n",
      "['data_analyst' 'data_engineer' 'data_scientist' ... 'data_scientist'\n",
      " 'data_analyst' 'data_analyst']\n"
     ]
    }
   ],
   "source": [
    "#print the prediction\n",
    "print(classifier.predict(X_train))\n",
    "#print values\n",
    "print(y_train.values)"
   ]
  },
  {
   "cell_type": "code",
   "execution_count": 42,
   "metadata": {},
   "outputs": [
    {
     "name": "stdout",
     "output_type": "stream",
     "text": [
      "                precision    recall  f1-score   support\n",
      "\n",
      "  data_analyst       0.89      0.88      0.88      1335\n",
      " data_engineer       0.93      0.90      0.92      1067\n",
      "data_scientist       0.91      0.93      0.92      1928\n",
      "\n",
      "      accuracy                           0.91      4330\n",
      "     macro avg       0.91      0.91      0.91      4330\n",
      "  weighted avg       0.91      0.91      0.91      4330\n",
      "\n",
      "\n"
     ]
    }
   ],
   "source": [
    "#Evaluate the model on the training data set \n",
    "from sklearn.metrics import classification_report, confusion_matrix, accuracy_score\n",
    "prediction = classifier.predict(X_train)\n",
    "print(classification_report(y_train, prediction))\n",
    "print()"
   ]
  },
  {
   "cell_type": "code",
   "execution_count": 39,
   "metadata": {},
   "outputs": [
    {
     "name": "stdout",
     "output_type": "stream",
     "text": [
      "Confusion Matrix: \n",
      " [[1178   32  125]\n",
      " [  60  962   45]\n",
      " [  93   36 1799]]\n",
      "Accuracy Matrix: 0.9096997690531178\n"
     ]
    }
   ],
   "source": [
    "print('Confusion Matrix: \\n', confusion_matrix(y_train,prediction))\n",
    "print('Accuracy Matrix:',  accuracy_score(y_train,prediction))"
   ]
  },
  {
   "cell_type": "code",
   "execution_count": 41,
   "metadata": {},
   "outputs": [
    {
     "name": "stdout",
     "output_type": "stream",
     "text": [
      "['data_scientist' 'data_scientist' 'data_scientist' ... 'data_engineer'\n",
      " 'data_engineer' 'data_scientist']\n",
      "['data_scientist' 'data_scientist' 'data_scientist' ... 'data_engineer'\n",
      " 'data_engineer' 'data_scientist']\n"
     ]
    }
   ],
   "source": [
    "#print the prediction\n",
    "print(classifier.predict(X_test))\n",
    "#print values\n",
    "print(y_test.values)\n"
   ]
  },
  {
   "cell_type": "code",
   "execution_count": 43,
   "metadata": {},
   "outputs": [
    {
     "name": "stdout",
     "output_type": "stream",
     "text": [
      "                precision    recall  f1-score   support\n",
      "\n",
      "  data_analyst       0.83      0.84      0.84       339\n",
      " data_engineer       0.89      0.85      0.87       261\n",
      "data_scientist       0.88      0.88      0.88       483\n",
      "\n",
      "      accuracy                           0.86      1083\n",
      "     macro avg       0.86      0.86      0.86      1083\n",
      "  weighted avg       0.86      0.86      0.86      1083\n",
      "\n",
      "\n",
      "Confusion Matrix: \n",
      " [[286  14  39]\n",
      " [ 16 223  22]\n",
      " [ 42  14 427]]\n",
      "\n",
      "Accuracy Matrix: 0.8642659279778393\n"
     ]
    }
   ],
   "source": [
    "#Evaluate the model on the training data set \n",
    "from sklearn.metrics import classification_report, confusion_matrix, accuracy_score\n",
    "prediction = classifier.predict(X_test)\n",
    "print(classification_report(y_test, prediction))\n",
    "print()\n",
    "print('Confusion Matrix: \\n', confusion_matrix(y_test,prediction))\n",
    "print()\n",
    "print('Accuracy Matrix:',  accuracy_score(y_test,prediction))"
   ]
  },
  {
   "cell_type": "code",
   "execution_count": null,
   "metadata": {},
   "outputs": [],
   "source": []
  }
 ],
 "metadata": {
  "kernelspec": {
   "display_name": "Python 3",
   "language": "python",
   "name": "python3"
  },
  "language_info": {
   "codemirror_mode": {
    "name": "ipython",
    "version": 3
   },
   "file_extension": ".py",
   "mimetype": "text/x-python",
   "name": "python",
   "nbconvert_exporter": "python",
   "pygments_lexer": "ipython3",
   "version": "3.7.6"
  }
 },
 "nbformat": 4,
 "nbformat_minor": 4
}
