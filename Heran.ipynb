{
 "cells": [
  {
   "cell_type": "code",
   "execution_count": 44,
   "metadata": {},
   "outputs": [],
   "source": [
    "import pandas as pd\n",
    "from sqlalchemy import create_engine\n",
    "from string import digits\n",
    "import numpy as np\n",
    "import os\n",
    "import nltk\n",
    "import string\n",
    "from nltk.corpus import stopwords  \n",
    "from nltk.tokenize import word_tokenize  \n",
    "from sklearn.feature_extraction.text import TfidfVectorizer\n",
    "from collections import defaultdict\n",
    "from nltk.probability import FreqDist, DictionaryProbDist, ELEProbDist, sum_logs\n",
    "from nltk.classify.api import ClassifierI\n"
   ]
  },
  {
   "cell_type": "code",
   "execution_count": 45,
   "metadata": {},
   "outputs": [
    {
     "data": {
      "text/html": [
       "<div>\n",
       "<style scoped>\n",
       "    .dataframe tbody tr th:only-of-type {\n",
       "        vertical-align: middle;\n",
       "    }\n",
       "\n",
       "    .dataframe tbody tr th {\n",
       "        vertical-align: top;\n",
       "    }\n",
       "\n",
       "    .dataframe thead th {\n",
       "        text-align: right;\n",
       "    }\n",
       "</style>\n",
       "<table border=\"1\" class=\"dataframe\">\n",
       "  <thead>\n",
       "    <tr style=\"text-align: right;\">\n",
       "      <th></th>\n",
       "      <th>Index_No</th>\n",
       "      <th>Job_Title</th>\n",
       "      <th>Link</th>\n",
       "      <th>Queried_Salary</th>\n",
       "      <th>Job_Type</th>\n",
       "      <th>Skill</th>\n",
       "      <th>duplicate</th>\n",
       "      <th>Description</th>\n",
       "      <th>Unnamed: 8</th>\n",
       "      <th>Unnamed: 9</th>\n",
       "      <th>...</th>\n",
       "      <th>Unnamed: 46</th>\n",
       "      <th>Unnamed: 47</th>\n",
       "      <th>Unnamed: 48</th>\n",
       "      <th>Unnamed: 49</th>\n",
       "      <th>Unnamed: 50</th>\n",
       "      <th>Unnamed: 51</th>\n",
       "      <th>Unnamed: 52</th>\n",
       "      <th>Unnamed: 53</th>\n",
       "      <th>Unnamed: 54</th>\n",
       "      <th>Unnamed: 55</th>\n",
       "    </tr>\n",
       "  </thead>\n",
       "  <tbody>\n",
       "    <tr>\n",
       "      <th>0</th>\n",
       "      <td>0</td>\n",
       "      <td>Data Scientist</td>\n",
       "      <td>https://www.indeed.com/rc/clk?jk=6a105f495c36a...</td>\n",
       "      <td>&lt;80000</td>\n",
       "      <td>data_scientist</td>\n",
       "      <td>['SAP', 'SQL']</td>\n",
       "      <td>[POSITION SUMMARY, The Business Analyst role i...</td>\n",
       "      <td>[position summary, the business analyst role i...</td>\n",
       "      <td>NaN</td>\n",
       "      <td>NaN</td>\n",
       "      <td>...</td>\n",
       "      <td>NaN</td>\n",
       "      <td>NaN</td>\n",
       "      <td>NaN</td>\n",
       "      <td>NaN</td>\n",
       "      <td>NaN</td>\n",
       "      <td>NaN</td>\n",
       "      <td>NaN</td>\n",
       "      <td>NaN</td>\n",
       "      <td>NaN</td>\n",
       "      <td>NaN</td>\n",
       "    </tr>\n",
       "    <tr>\n",
       "      <th>1</th>\n",
       "      <td>1</td>\n",
       "      <td>Data Scientist</td>\n",
       "      <td>https://www.indeed.com/rc/clk?jk=86afd561ea8c6...</td>\n",
       "      <td>&lt;80000</td>\n",
       "      <td>data_scientist</td>\n",
       "      <td>['Machine Learning', 'R', 'SAS', 'SQL', 'Python']</td>\n",
       "      <td>[What do we need?, \\r\\r\\nYou to have an amazin...</td>\n",
       "      <td>[what do we need?, \\r\\r\\nyou to have an amazin...</td>\n",
       "      <td>NaN</td>\n",
       "      <td>NaN</td>\n",
       "      <td>...</td>\n",
       "      <td>NaN</td>\n",
       "      <td>NaN</td>\n",
       "      <td>NaN</td>\n",
       "      <td>NaN</td>\n",
       "      <td>NaN</td>\n",
       "      <td>NaN</td>\n",
       "      <td>NaN</td>\n",
       "      <td>NaN</td>\n",
       "      <td>NaN</td>\n",
       "      <td>NaN</td>\n",
       "    </tr>\n",
       "    <tr>\n",
       "      <th>2</th>\n",
       "      <td>2</td>\n",
       "      <td>Data Scientist</td>\n",
       "      <td>https://www.indeed.com/rc/clk?jk=e0aad317e6d45...</td>\n",
       "      <td>&lt;80000</td>\n",
       "      <td>data_scientist</td>\n",
       "      <td>['Data Mining', 'Data Management', 'R', 'SAS',...</td>\n",
       "      <td>[Validate, analyze, and conduct statistical an...</td>\n",
       "      <td>[validate, analyze, and conduct statistical an...</td>\n",
       "      <td>NaN</td>\n",
       "      <td>NaN</td>\n",
       "      <td>...</td>\n",
       "      <td>NaN</td>\n",
       "      <td>NaN</td>\n",
       "      <td>NaN</td>\n",
       "      <td>NaN</td>\n",
       "      <td>NaN</td>\n",
       "      <td>NaN</td>\n",
       "      <td>NaN</td>\n",
       "      <td>NaN</td>\n",
       "      <td>NaN</td>\n",
       "      <td>NaN</td>\n",
       "    </tr>\n",
       "    <tr>\n",
       "      <th>3</th>\n",
       "      <td>3</td>\n",
       "      <td>Graduate Studies Program - Data Scientist</td>\n",
       "      <td>https://www.indeed.com/rc/clk?jk=1cfdd9e391a63...</td>\n",
       "      <td>&lt;80000</td>\n",
       "      <td>data_scientist</td>\n",
       "      <td>['Certified Internal Auditor']</td>\n",
       "      <td>[Full time, Washington, DC metro area, Startin...</td>\n",
       "      <td>[full time, washington, dc metro area, startin...</td>\n",
       "      <td>NaN</td>\n",
       "      <td>NaN</td>\n",
       "      <td>...</td>\n",
       "      <td>NaN</td>\n",
       "      <td>NaN</td>\n",
       "      <td>NaN</td>\n",
       "      <td>NaN</td>\n",
       "      <td>NaN</td>\n",
       "      <td>NaN</td>\n",
       "      <td>NaN</td>\n",
       "      <td>NaN</td>\n",
       "      <td>NaN</td>\n",
       "      <td>NaN</td>\n",
       "    </tr>\n",
       "    <tr>\n",
       "      <th>4</th>\n",
       "      <td>4</td>\n",
       "      <td>Data Scientist I</td>\n",
       "      <td>https://www.indeed.com/rc/clk?jk=fec647775a21e...</td>\n",
       "      <td>&lt;80000</td>\n",
       "      <td>data_scientist</td>\n",
       "      <td>['Statistical Software', 'Time Management', 'R...</td>\n",
       "      <td>[Assist in consultations with business partner...</td>\n",
       "      <td>[assist in consultations with business partner...</td>\n",
       "      <td>NaN</td>\n",
       "      <td>NaN</td>\n",
       "      <td>...</td>\n",
       "      <td>NaN</td>\n",
       "      <td>NaN</td>\n",
       "      <td>NaN</td>\n",
       "      <td>NaN</td>\n",
       "      <td>NaN</td>\n",
       "      <td>NaN</td>\n",
       "      <td>NaN</td>\n",
       "      <td>NaN</td>\n",
       "      <td>NaN</td>\n",
       "      <td>0.0</td>\n",
       "    </tr>\n",
       "  </tbody>\n",
       "</table>\n",
       "<p>5 rows × 56 columns</p>\n",
       "</div>"
      ],
      "text/plain": [
       "   Index_No                                  Job_Title  \\\n",
       "0         0                             Data Scientist   \n",
       "1         1                             Data Scientist   \n",
       "2         2                             Data Scientist   \n",
       "3         3  Graduate Studies Program - Data Scientist   \n",
       "4         4                           Data Scientist I   \n",
       "\n",
       "                                                Link Queried_Salary  \\\n",
       "0  https://www.indeed.com/rc/clk?jk=6a105f495c36a...         <80000   \n",
       "1  https://www.indeed.com/rc/clk?jk=86afd561ea8c6...         <80000   \n",
       "2  https://www.indeed.com/rc/clk?jk=e0aad317e6d45...         <80000   \n",
       "3  https://www.indeed.com/rc/clk?jk=1cfdd9e391a63...         <80000   \n",
       "4  https://www.indeed.com/rc/clk?jk=fec647775a21e...         <80000   \n",
       "\n",
       "         Job_Type                                              Skill  \\\n",
       "0  data_scientist                                     ['SAP', 'SQL']   \n",
       "1  data_scientist  ['Machine Learning', 'R', 'SAS', 'SQL', 'Python']   \n",
       "2  data_scientist  ['Data Mining', 'Data Management', 'R', 'SAS',...   \n",
       "3  data_scientist                     ['Certified Internal Auditor']   \n",
       "4  data_scientist  ['Statistical Software', 'Time Management', 'R...   \n",
       "\n",
       "                                           duplicate  \\\n",
       "0  [POSITION SUMMARY, The Business Analyst role i...   \n",
       "1  [What do we need?, \\r\\r\\nYou to have an amazin...   \n",
       "2  [Validate, analyze, and conduct statistical an...   \n",
       "3  [Full time, Washington, DC metro area, Startin...   \n",
       "4  [Assist in consultations with business partner...   \n",
       "\n",
       "                                         Description  Unnamed: 8  Unnamed: 9  \\\n",
       "0  [position summary, the business analyst role i...         NaN         NaN   \n",
       "1  [what do we need?, \\r\\r\\nyou to have an amazin...         NaN         NaN   \n",
       "2  [validate, analyze, and conduct statistical an...         NaN         NaN   \n",
       "3  [full time, washington, dc metro area, startin...         NaN         NaN   \n",
       "4  [assist in consultations with business partner...         NaN         NaN   \n",
       "\n",
       "   ...  Unnamed: 46  Unnamed: 47  Unnamed: 48  Unnamed: 49  Unnamed: 50  \\\n",
       "0  ...          NaN          NaN          NaN          NaN          NaN   \n",
       "1  ...          NaN          NaN          NaN          NaN          NaN   \n",
       "2  ...          NaN          NaN          NaN          NaN          NaN   \n",
       "3  ...          NaN          NaN          NaN          NaN          NaN   \n",
       "4  ...          NaN          NaN          NaN          NaN          NaN   \n",
       "\n",
       "   Unnamed: 51  Unnamed: 52  Unnamed: 53  Unnamed: 54  Unnamed: 55  \n",
       "0          NaN          NaN          NaN          NaN          NaN  \n",
       "1          NaN          NaN          NaN          NaN          NaN  \n",
       "2          NaN          NaN          NaN          NaN          NaN  \n",
       "3          NaN          NaN          NaN          NaN          NaN  \n",
       "4          NaN          NaN          NaN          NaN          0.0  \n",
       "\n",
       "[5 rows x 56 columns]"
      ]
     },
     "execution_count": 45,
     "metadata": {},
     "output_type": "execute_result"
    }
   ],
   "source": [
    "csv1 = \"./indeed_job_dataset_jds_v2.csv\"\n",
    "# csv2 = \"./indeed_job_dataset_V5_CSV.csv\"\n",
    "df1 = pd.read_csv(csv1, encoding = 'unicode_escape')\n",
    "# df2 = pd.read_csv(csv2)\n",
    "df1.head()\n",
    "# df2.head()"
   ]
  },
  {
   "cell_type": "code",
   "execution_count": 46,
   "metadata": {},
   "outputs": [
    {
     "data": {
      "text/html": [
       "<div>\n",
       "<style scoped>\n",
       "    .dataframe tbody tr th:only-of-type {\n",
       "        vertical-align: middle;\n",
       "    }\n",
       "\n",
       "    .dataframe tbody tr th {\n",
       "        vertical-align: top;\n",
       "    }\n",
       "\n",
       "    .dataframe thead th {\n",
       "        text-align: right;\n",
       "    }\n",
       "</style>\n",
       "<table border=\"1\" class=\"dataframe\">\n",
       "  <thead>\n",
       "    <tr style=\"text-align: right;\">\n",
       "      <th></th>\n",
       "      <th>Job_Type</th>\n",
       "      <th>Description</th>\n",
       "    </tr>\n",
       "  </thead>\n",
       "  <tbody>\n",
       "    <tr>\n",
       "      <th>0</th>\n",
       "      <td>data_scientist</td>\n",
       "      <td>[position summary, the business analyst role i...</td>\n",
       "    </tr>\n",
       "    <tr>\n",
       "      <th>1</th>\n",
       "      <td>data_scientist</td>\n",
       "      <td>[what do we need?, \\r\\r\\nyou to have an amazin...</td>\n",
       "    </tr>\n",
       "    <tr>\n",
       "      <th>2</th>\n",
       "      <td>data_scientist</td>\n",
       "      <td>[validate, analyze, and conduct statistical an...</td>\n",
       "    </tr>\n",
       "    <tr>\n",
       "      <th>3</th>\n",
       "      <td>data_scientist</td>\n",
       "      <td>[full time, washington, dc metro area, startin...</td>\n",
       "    </tr>\n",
       "    <tr>\n",
       "      <th>4</th>\n",
       "      <td>data_scientist</td>\n",
       "      <td>[assist in consultations with business partner...</td>\n",
       "    </tr>\n",
       "  </tbody>\n",
       "</table>\n",
       "</div>"
      ],
      "text/plain": [
       "         Job_Type                                        Description\n",
       "0  data_scientist  [position summary, the business analyst role i...\n",
       "1  data_scientist  [what do we need?, \\r\\r\\nyou to have an amazin...\n",
       "2  data_scientist  [validate, analyze, and conduct statistical an...\n",
       "3  data_scientist  [full time, washington, dc metro area, startin...\n",
       "4  data_scientist  [assist in consultations with business partner..."
      ]
     },
     "execution_count": 46,
     "metadata": {},
     "output_type": "execute_result"
    }
   ],
   "source": [
    "df = df1[['Job_Type', 'Description']]\n",
    "df.head()"
   ]
  },
  {
   "cell_type": "code",
   "execution_count": 47,
   "metadata": {},
   "outputs": [
    {
     "name": "stderr",
     "output_type": "stream",
     "text": [
      "/Users/williammdavis/opt/anaconda3/lib/python3.7/site-packages/ipykernel_launcher.py:1: SettingWithCopyWarning: \n",
      "A value is trying to be set on a copy of a slice from a DataFrame\n",
      "\n",
      "See the caveats in the documentation: https://pandas.pydata.org/pandas-docs/stable/user_guide/indexing.html#returning-a-view-versus-a-copy\n",
      "  \"\"\"Entry point for launching an IPython kernel.\n"
     ]
    },
    {
     "data": {
      "text/plain": [
       "5413"
      ]
     },
     "execution_count": 47,
     "metadata": {},
     "output_type": "execute_result"
    }
   ],
   "source": [
    "\n",
    "df.dropna(inplace=True)\n",
    "\n",
    "len(df['Job_Type'])"
   ]
  },
  {
   "cell_type": "code",
   "execution_count": 48,
   "metadata": {},
   "outputs": [
    {
     "data": {
      "text/html": [
       "<div>\n",
       "<style scoped>\n",
       "    .dataframe tbody tr th:only-of-type {\n",
       "        vertical-align: middle;\n",
       "    }\n",
       "\n",
       "    .dataframe tbody tr th {\n",
       "        vertical-align: top;\n",
       "    }\n",
       "\n",
       "    .dataframe thead th {\n",
       "        text-align: right;\n",
       "    }\n",
       "</style>\n",
       "<table border=\"1\" class=\"dataframe\">\n",
       "  <thead>\n",
       "    <tr style=\"text-align: right;\">\n",
       "      <th></th>\n",
       "      <th>Job_Type</th>\n",
       "      <th>Description</th>\n",
       "    </tr>\n",
       "  </thead>\n",
       "  <tbody>\n",
       "    <tr>\n",
       "      <th>0</th>\n",
       "      <td>data_scientist</td>\n",
       "      <td>[position summary, the business analyst role i...</td>\n",
       "    </tr>\n",
       "    <tr>\n",
       "      <th>1</th>\n",
       "      <td>data_scientist</td>\n",
       "      <td>[what do we need?, \\r\\r\\nyou to have an amazin...</td>\n",
       "    </tr>\n",
       "    <tr>\n",
       "      <th>2</th>\n",
       "      <td>data_scientist</td>\n",
       "      <td>[validate, analyze, and conduct statistical an...</td>\n",
       "    </tr>\n",
       "    <tr>\n",
       "      <th>3</th>\n",
       "      <td>data_scientist</td>\n",
       "      <td>[full time, washington, dc metro area, startin...</td>\n",
       "    </tr>\n",
       "    <tr>\n",
       "      <th>4</th>\n",
       "      <td>data_scientist</td>\n",
       "      <td>[assist in consultations with business partner...</td>\n",
       "    </tr>\n",
       "  </tbody>\n",
       "</table>\n",
       "</div>"
      ],
      "text/plain": [
       "         Job_Type                                        Description\n",
       "0  data_scientist  [position summary, the business analyst role i...\n",
       "1  data_scientist  [what do we need?, \\r\\r\\nyou to have an amazin...\n",
       "2  data_scientist  [validate, analyze, and conduct statistical an...\n",
       "3  data_scientist  [full time, washington, dc metro area, startin...\n",
       "4  data_scientist  [assist in consultations with business partner..."
      ]
     },
     "execution_count": 48,
     "metadata": {},
     "output_type": "execute_result"
    }
   ],
   "source": [
    "df.head()"
   ]
  },
  {
   "cell_type": "code",
   "execution_count": 49,
   "metadata": {},
   "outputs": [],
   "source": [
    "# df.drop_duplicates(inplace = True)"
   ]
  },
  {
   "cell_type": "code",
   "execution_count": 50,
   "metadata": {},
   "outputs": [
    {
     "data": {
      "text/plain": [
       "(5413, 2)"
      ]
     },
     "execution_count": 50,
     "metadata": {},
     "output_type": "execute_result"
    }
   ],
   "source": [
    "df.shape\n"
   ]
  },
  {
   "cell_type": "code",
   "execution_count": 51,
   "metadata": {},
   "outputs": [
    {
     "name": "stderr",
     "output_type": "stream",
     "text": [
      "[nltk_data] Downloading package stopwords to\n",
      "[nltk_data]     /Users/williammdavis/nltk_data...\n",
      "[nltk_data]   Package stopwords is already up-to-date!\n"
     ]
    },
    {
     "data": {
      "text/plain": [
       "True"
      ]
     },
     "execution_count": 51,
     "metadata": {},
     "output_type": "execute_result"
    }
   ],
   "source": [
    "#download stop words \n",
    "nltk.download('stopwords')"
   ]
  },
  {
   "cell_type": "code",
   "execution_count": 52,
   "metadata": {},
   "outputs": [],
   "source": [
    "def process_text(text):\n",
    "    nopunc = [char for char in text if char not in string.punctuation]\n",
    "    nopunc = ''.join(nopunc)\n",
    "    clean_words = [word for word in nopunc.split() if word.lower() not in stopwords.words('english')]\n",
    "    return clean_words"
   ]
  },
  {
   "cell_type": "code",
   "execution_count": 72,
   "metadata": {},
   "outputs": [
    {
     "data": {
      "text/plain": [
       "0    [position, summary, business, analyst, role, p...\n",
       "1    [need, amazing, personality, communication, st...\n",
       "2    [validate, analyze, conduct, statistical, anal...\n",
       "3    [full, time, washington, dc, metro, area, star...\n",
       "4    [assist, consultations, business, partners, in...\n",
       "Name: Description, dtype: object"
      ]
     },
     "execution_count": 72,
     "metadata": {},
     "output_type": "execute_result"
    }
   ],
   "source": [
    "#show tokenization \n",
    "df['Description'].head().apply(process_text)"
   ]
  },
  {
   "cell_type": "code",
   "execution_count": 73,
   "metadata": {},
   "outputs": [],
   "source": [
    "# #example \n",
    "# message4 = 'hello world hello hello world play'\n",
    "# message5= 'test test test one hello'\n",
    "# print(message4)\n",
    "# print()\n",
    "\n",
    "# #convert the text to a matrix of a token counts \n",
    "# from sklearn.feature_extraction.text import CountVectorizer\n",
    "# bow4 =CountVectorizer(analyzer=process_text).fit_transform([[message4],[message5]])\n",
    "# print(bow4)\n",
    "# print(bow4.shape)"
   ]
  },
  {
   "cell_type": "code",
   "execution_count": 81,
   "metadata": {},
   "outputs": [],
   "source": [
    "#convert collection of text to a matrix of tokens\n",
    "from sklearn.feature_extraction.text import CountVectorizer\n",
    "count_v  = CountVectorizer(analyzer=process_text)\n",
    "message_bow = count_v.fit_transform(df['Description'])"
   ]
  },
  {
   "cell_type": "code",
   "execution_count": null,
   "metadata": {},
   "outputs": [],
   "source": [
    "# print(message_bow)"
   ]
  },
  {
   "cell_type": "code",
   "execution_count": 82,
   "metadata": {},
   "outputs": [],
   "source": [
    "#split the data into 80% training and 20% testing\n",
    "from sklearn.model_selection import train_test_split\n",
    "X_train, X_test, y_train, y_test = train_test_split(message_bow, df['Job_Type'],test_size=0.20, random_state=0)"
   ]
  },
  {
   "cell_type": "code",
   "execution_count": 99,
   "metadata": {},
   "outputs": [
    {
     "data": {
      "text/plain": [
       "(5413, 34069)"
      ]
     },
     "execution_count": 99,
     "metadata": {},
     "output_type": "execute_result"
    }
   ],
   "source": [
    "message_bow.shape"
   ]
  },
  {
   "cell_type": "code",
   "execution_count": 91,
   "metadata": {},
   "outputs": [],
   "source": [
    "#create and train the naive bayes classifier\n",
    "from sklearn.naive_bayes import MultinomialNB\n",
    "classifier =  MultinomialNB().fit(X_train, y_train)"
   ]
  },
  {
   "cell_type": "code",
   "execution_count": 92,
   "metadata": {},
   "outputs": [
    {
     "name": "stdout",
     "output_type": "stream",
     "text": [
      "['data_analyst' 'data_engineer' 'data_scientist' ... 'data_scientist'\n",
      " 'data_analyst' 'data_analyst']\n",
      "['data_analyst' 'data_engineer' 'data_scientist' ... 'data_scientist'\n",
      " 'data_analyst' 'data_analyst']\n"
     ]
    }
   ],
   "source": [
    "#print the prediction\n",
    "print(classifier.predict(X_train))\n",
    "#print values\n",
    "print(y_train.values)"
   ]
  },
  {
   "cell_type": "code",
   "execution_count": 93,
   "metadata": {},
   "outputs": [
    {
     "name": "stdout",
     "output_type": "stream",
     "text": [
      "                precision    recall  f1-score   support\n",
      "\n",
      "  data_analyst       0.89      0.88      0.88      1335\n",
      " data_engineer       0.93      0.90      0.92      1067\n",
      "data_scientist       0.91      0.93      0.92      1928\n",
      "\n",
      "      accuracy                           0.91      4330\n",
      "     macro avg       0.91      0.91      0.91      4330\n",
      "  weighted avg       0.91      0.91      0.91      4330\n",
      "\n",
      "\n"
     ]
    }
   ],
   "source": [
    "#Evaluate the model on the training data set \n",
    "from sklearn.metrics import classification_report, confusion_matrix, accuracy_score\n",
    "prediction = classifier.predict(X_train)\n",
    "print(classification_report(y_train, prediction))\n",
    "print()"
   ]
  },
  {
   "cell_type": "code",
   "execution_count": 94,
   "metadata": {},
   "outputs": [
    {
     "name": "stdout",
     "output_type": "stream",
     "text": [
      "Confusion Matrix: \n",
      " [[1178   32  125]\n",
      " [  60  962   45]\n",
      " [  93   36 1799]]\n",
      "Accuracy Matrix: 0.9096997690531178\n"
     ]
    }
   ],
   "source": [
    "print('Confusion Matrix: \\n', confusion_matrix(y_train,prediction))\n",
    "print('Accuracy Matrix:',  accuracy_score(y_train,prediction))"
   ]
  },
  {
   "cell_type": "code",
   "execution_count": 95,
   "metadata": {},
   "outputs": [
    {
     "name": "stdout",
     "output_type": "stream",
     "text": [
      "['data_scientist' 'data_scientist' 'data_scientist' ... 'data_engineer'\n",
      " 'data_engineer' 'data_scientist']\n",
      "['data_scientist' 'data_scientist' 'data_scientist' ... 'data_engineer'\n",
      " 'data_engineer' 'data_scientist']\n"
     ]
    }
   ],
   "source": [
    "#print the prediction\n",
    "print(classifier.predict(X_test))\n",
    "#print values\n",
    "print(y_test.values)\n"
   ]
  },
  {
   "cell_type": "code",
   "execution_count": 101,
   "metadata": {},
   "outputs": [
    {
     "name": "stdout",
     "output_type": "stream",
     "text": [
      "                precision    recall  f1-score   support\n",
      "\n",
      "  data_analyst       0.83      0.84      0.84       339\n",
      " data_engineer       0.89      0.85      0.87       261\n",
      "data_scientist       0.88      0.88      0.88       483\n",
      "\n",
      "      accuracy                           0.86      1083\n",
      "     macro avg       0.86      0.86      0.86      1083\n",
      "  weighted avg       0.86      0.86      0.86      1083\n",
      "\n",
      "\n",
      "Confusion Matrix: \n",
      " [[286  14  39]\n",
      " [ 16 223  22]\n",
      " [ 42  14 427]]\n",
      "\n",
      "Accuracy Matrix: 0.8642659279778393\n"
     ]
    }
   ],
   "source": [
    "#Evaluate the model on the training data set \n",
    "from sklearn.metrics import classification_report, confusion_matrix, accuracy_score\n",
    "prediction = classifier.predict(X_test)\n",
    "print(classification_report(y_test, prediction))\n",
    "print()\n",
    "print('Confusion Matrix: \\n', confusion_matrix(y_test,prediction))\n",
    "print()\n",
    "print('Accuracy Matrix:',  accuracy_score(y_test,prediction))"
   ]
  },
  {
   "cell_type": "code",
   "execution_count": 100,
   "metadata": {},
   "outputs": [
    {
     "name": "stdout",
     "output_type": "stream",
     "text": [
      "  (0, 1514)\t1\n",
      "  (0, 2264)\t1\n",
      "  (0, 7029)\t1\n",
      "  (0, 7823)\t1\n",
      "  (0, 16762)\t1\n",
      "  (0, 24364)\t1\n",
      "  (0, 28706)\t1\n",
      "  (0, 29902)\t1\n"
     ]
    },
    {
     "data": {
      "text/plain": [
       "array(['data_analyst'], dtype='<U14')"
      ]
     },
     "execution_count": 100,
     "metadata": {},
     "output_type": "execute_result"
    }
   ],
   "source": [
    "example = ['data analyst is cool. i know sql, python, and tableau. I am studious and adaptable.']\n",
    "input_bow = count_v.transform(example)\n",
    "print(input_bow)\n",
    "# classifier =  MultinomialNB().fit(X1_train, y1_train)\n",
    "\n",
    "classifier.predict(input_bow)"
   ]
  },
  {
   "cell_type": "code",
   "execution_count": 121,
   "metadata": {},
   "outputs": [
    {
     "name": "stdout",
     "output_type": "stream",
     "text": [
      "  (0, 31)\t1\n",
      "  (0, 388)\t1\n",
      "  (0, 434)\t1\n",
      "  (0, 780)\t1\n",
      "  (0, 1428)\t1\n",
      "  (0, 1523)\t1\n",
      "  (0, 1814)\t1\n",
      "  (0, 2194)\t2\n",
      "  (0, 2308)\t1\n",
      "  (0, 2342)\t1\n",
      "  (0, 2410)\t2\n",
      "  (0, 2701)\t1\n",
      "  (0, 2826)\t1\n",
      "  (0, 2872)\t1\n",
      "  (0, 3679)\t3\n",
      "  (0, 3991)\t1\n",
      "  (0, 3993)\t1\n",
      "  (0, 4463)\t1\n",
      "  (0, 4557)\t1\n",
      "  (0, 4621)\t2\n",
      "  (0, 5118)\t1\n",
      "  (0, 5142)\t1\n",
      "  (0, 5862)\t1\n",
      "  (0, 6001)\t2\n",
      "  (0, 6031)\t1\n",
      "  :\t:\n",
      "  (0, 29416)\t1\n",
      "  (0, 29579)\t1\n",
      "  (0, 29603)\t2\n",
      "  (0, 29793)\t1\n",
      "  (0, 29819)\t1\n",
      "  (0, 30114)\t3\n",
      "  (0, 30167)\t3\n",
      "  (0, 30239)\t3\n",
      "  (0, 30269)\t1\n",
      "  (0, 30311)\t1\n",
      "  (0, 30313)\t1\n",
      "  (0, 30544)\t1\n",
      "  (0, 30561)\t2\n",
      "  (0, 30586)\t1\n",
      "  (0, 30975)\t2\n",
      "  (0, 32066)\t3\n",
      "  (0, 32117)\t1\n",
      "  (0, 32228)\t1\n",
      "  (0, 32694)\t1\n",
      "  (0, 32815)\t1\n",
      "  (0, 32899)\t1\n",
      "  (0, 33125)\t1\n",
      "  (0, 33179)\t1\n",
      "  (0, 33201)\t1\n",
      "  (0, 33210)\t1\n",
      "['data_scientist']\n"
     ]
    }
   ],
   "source": [
    "example1 = ['Weldon Schmidt \\\n",
    "59222 Yundt Falls, Philadelphia, PA \\\n",
    "+1 (555) 408 5416 Work Experience \\\n",
    "07/2017 - PRESENT \\\n",
    "Lead Big Data Engineer \\\n",
    "Boston, MA \\\n",
    "Support, maintain, and document Hadoop and MySQL data warehouse \\\n",
    "Iterate and improve existing features in the pipeline as well as add new ones \\\n",
    "Design, develop, document, and test new requirements in the data pipeline using PERL, BASH, PIG and OOZIE in the Hadoop ecosystem \\\n",
    "Provide full operational support – analyze code to identify root causes of production issues and provide solutions or workarounds and lead it to resolution \\\n",
    "Participate in full development life cycle including requirements analysis, design, development, deployment and operations support \\\n",
    "Work with engineering team members to explore and create interesting solutions while sharing knowledge within the team \\\n",
    "Work across product teams to help solve customer-facing issues \\\n",
    "Demonstrable experience designing technological solutions to complex data problems, developing & testing modular, reusable, efficient and scalable code to implement those solutions \\\n",
    "10/2011 - 03/2017 \\\n",
    "Dallas, TX \\\n",
    "Plan, develop, monitor and evolve needed infrastructure in collaboration with Ops partners \\\n",
    "Progressive experience as a Systems/Software Engineer, Application Developer or related occupation \\\n",
    "Provides technical design based on business requirements \\\n",
    "Communicates and coordinates with cross functional teams to ensure business objectives are met \\\n",
    "Develops, tests and deploys software applications/systems using scientific analysis and mathematical models to predict and measure outcome and consequences of design \\\n",
    "Provides guidance and mentoring in technical areas to a team of Developer/Analysts \\\n",
    "Documents and submits status reports to leadership \\\n",
    "Provides guidance on new technologies/methodologies \\\n",
    "09/2004 - 09/2011 \\\n",
    "Detroit, MI \\\n",
    "Designing, developing and maintaining new generation machine learning based big-data web page categorization, data/IP mining, and malicious site detection systems \\\n",
    "Creating and enhancing tools to analyze and process large quantity of data set \\\n",
    "Utilize your programming skills for efficient and robust implementation \\\n",
    "Work closely with malware research/data science teams to enhance malicious site detection, and machine learning/data mining based big data system \\\n",
    "Solve engineering problems by creating solutions that leverage existing technologies and utilize your technical prowess to design and implement solutions where none exist \\\n",
    "Design, build, improve and maintain a high performance and highly scalable services exposed to our solution and a broader development community \\\n",
    "Work with real-time data processing, messaging, streaming techniques and workflows \\\n",
    "University of Sioux Falls \\\n",
    "1998 - 2003 \\\n",
    "Bachelors Degree in Computer Science \\\n",
    "Professional Skills \\\n",
    "Very strong skills working with very large data sets with a variety of tools; experience in dealing with performance and scaling issues \\\n",
    "Demonstrated excellent planning and organizational skills \\\n",
    "Proven design, coding, testing and debugging skills and experience \\\n",
    "Strong analytical, learning and problem solving skills with personal interest in subjects such as math/statistics, machine learning, AI and analytics \\\n",
    "Self-starting, requiring minimal supervision with strong problem-solving skills \\\n",
    "Relevant software development / consulting experience with strong skill on database modeling and architecture \\\n",
    "Strong execution skills in a fast-paced environment using agile methodologies ']\n",
    "input_bow2 = count_v.transform(example1) \n",
    "print(input_bow2)\n",
    "# classifier =  MultinomialNB().fit(X1_train, y1_train)\n",
    "\n",
    "classifier.predict(input_bow2)\n",
    "print(what)"
   ]
  },
  {
   "cell_type": "code",
   "execution_count": null,
   "metadata": {},
   "outputs": [],
   "source": []
  }
 ],
 "metadata": {
  "kernelspec": {
   "display_name": "Python 3",
   "language": "python",
   "name": "python3"
  },
  "language_info": {
   "codemirror_mode": {
    "name": "ipython",
    "version": 3
   },
   "file_extension": ".py",
   "mimetype": "text/x-python",
   "name": "python",
   "nbconvert_exporter": "python",
   "pygments_lexer": "ipython3",
   "version": "3.7.6"
  }
 },
 "nbformat": 4,
 "nbformat_minor": 4
}
